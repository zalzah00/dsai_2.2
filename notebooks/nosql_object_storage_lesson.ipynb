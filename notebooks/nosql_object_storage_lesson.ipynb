{
 "cells": [
  {
   "cell_type": "markdown",
   "metadata": {},
   "source": [
    "# Introduction to NoSQL and Object Storage.\n",
    "\n",
    "This lesson walks through the create and read operations on `redis`. We will also fetch data from `google cloud storage`."
   ]
  },
  {
   "cell_type": "markdown",
   "metadata": {},
   "source": [
    "## Redis\n",
    "\n",
    "Redis is an in-memory data structure store, used as a database, cache and message broker. It supports data structures such as strings, hashes, lists, sets, sorted sets with range queries, bitmaps, hyperloglogs and geospatial indexes with radius queries.\n",
    "\n",
    "We will be connecting to a redis database hosted on Redis Labs. Redis Labs is a cloud database service that allows you to host redis databases on the cloud.\n",
    "\n",
    "Prerequisite: The learner is requested to set up an account on Redis [here](https://redis.io/) and set up a (free tier) cluster. \n",
    "\n",
    "If you need some guides, please refer to the screenshots below:\n",
    "\n",
    "[Step 1](../assets/redis_create_db_step1.png)  (create database)\n",
    "\n",
    "[Step 2](../assets/redis_create_db_step2.png)  (choose free cluster)\n",
    "\n",
    "[Step 3](../assets/redis_create_db_step3.png)  (click 'connect' to get connect instructions)\n",
    "\n",
    "[Step 4](../assets/redis_create_db_step4.png)  (choose 'Redis Client' - 'Python')\n",
    "\n",
    "[Step 5](../assets/redis_create_db_step5.png) (copy and paste the python code into a cell below)\n",
    "\n",
    "We will be using the `redis-py` library to connect to the redis database"
   ]
  },
  {
   "cell_type": "code",
   "execution_count": 2,
   "metadata": {},
   "outputs": [
    {
     "name": "stdout",
     "output_type": "stream",
     "text": [
      "Collecting redis\n",
      "  Obtaining dependency information for redis from https://files.pythonhosted.org/packages/df/a7/2fe45801534a187543fc45d28b3844d84559c1589255bc2ece30d92dc205/redis-6.3.0-py3-none-any.whl.metadata\n",
      "  Downloading redis-6.3.0-py3-none-any.whl.metadata (10 kB)\n",
      "Collecting async-timeout>=4.0.3 (from redis)\n",
      "  Obtaining dependency information for async-timeout>=4.0.3 from https://files.pythonhosted.org/packages/fe/ba/e2081de779ca30d473f21f5b30e0e737c438205440784c7dfc81efc2b029/async_timeout-5.0.1-py3-none-any.whl.metadata\n",
      "  Using cached async_timeout-5.0.1-py3-none-any.whl.metadata (5.1 kB)\n",
      "Downloading redis-6.3.0-py3-none-any.whl (280 kB)\n",
      "\u001b[2K   \u001b[90m━━━━━━━━━━━━━━━━━━━━━━━━━━━━━━━━━━━━━━━━\u001b[0m \u001b[32m280.0/280.0 kB\u001b[0m \u001b[31m4.4 MB/s\u001b[0m eta \u001b[36m0:00:00\u001b[0ma \u001b[36m0:00:01\u001b[0m\n",
      "\u001b[?25hUsing cached async_timeout-5.0.1-py3-none-any.whl (6.2 kB)\n",
      "Installing collected packages: async-timeout, redis\n",
      "Successfully installed async-timeout-5.0.1 redis-6.3.0\n",
      "Note: you may need to restart the kernel to use updated packages.\n"
     ]
    }
   ],
   "source": [
    "%pip install redis"
   ]
  },
  {
   "cell_type": "code",
   "execution_count": 6,
   "metadata": {},
   "outputs": [
    {
     "name": "stdout",
     "output_type": "stream",
     "text": [
      "Collecting dotenv\n",
      "  Obtaining dependency information for dotenv from https://files.pythonhosted.org/packages/b2/b7/545d2c10c1fc15e48653c91efde329a790f2eecfbbf2bd16003b5db2bab0/dotenv-0.9.9-py2.py3-none-any.whl.metadata\n",
      "  Downloading dotenv-0.9.9-py2.py3-none-any.whl.metadata (279 bytes)\n",
      "Collecting python-dotenv (from dotenv)\n",
      "  Obtaining dependency information for python-dotenv from https://files.pythonhosted.org/packages/5f/ed/539768cf28c661b5b068d66d96a2f155c4971a5d55684a514c1a0e0dec2f/python_dotenv-1.1.1-py3-none-any.whl.metadata\n",
      "  Downloading python_dotenv-1.1.1-py3-none-any.whl.metadata (24 kB)\n",
      "Downloading dotenv-0.9.9-py2.py3-none-any.whl (1.9 kB)\n",
      "Downloading python_dotenv-1.1.1-py3-none-any.whl (20 kB)\n",
      "Installing collected packages: python-dotenv, dotenv\n",
      "Successfully installed dotenv-0.9.9 python-dotenv-1.1.1\n",
      "Note: you may need to restart the kernel to use updated packages.\n"
     ]
    }
   ],
   "source": [
    "%pip install dotenv"
   ]
  },
  {
   "cell_type": "code",
   "execution_count": 27,
   "metadata": {},
   "outputs": [],
   "source": [
    "import os\n",
    "from dotenv import load_dotenv\n",
    "load_dotenv()\n",
    "redis_password = os.environ.get('REDIS_PASSWORD')"
   ]
  },
  {
   "cell_type": "code",
   "execution_count": 28,
   "metadata": {},
   "outputs": [
    {
     "name": "stdout",
     "output_type": "stream",
     "text": [
      "bar\n"
     ]
    }
   ],
   "source": [
    "import redis\n",
    "\n",
    "r = redis.Redis(\n",
    "    host='redis-10354.c295.ap-southeast-1-1.ec2.redns.redis-cloud.com',\n",
    "    port=10354,\n",
    "    decode_responses=True,\n",
    "    username=\"admin\",\n",
    "    password=redis_password,\n",
    ")\n",
    "\n",
    "success = r.set('foo', 'bar')\n",
    "# True\n",
    "\n",
    "result = r.get('foo')\n",
    "print(result)\n",
    "# >>> bar"
   ]
  },
  {
   "cell_type": "code",
   "execution_count": 4,
   "metadata": {},
   "outputs": [],
   "source": [
    "# Either use the code provided from Step 5 above or the code below to connect to your Redis database.\n",
    "# Make sure to replace <REDIS-URL> and <YOUR-PASSWORD> with your actual Redis database URL and password.\n",
    "# If you are using the code from Step5, you can skip this section.\n",
    "import redis\n",
    "\n",
    "r = redis.Redis(\n",
    "  host='redis-10354.c295.ap-southeast-1-1.ec2.redns.redis-cloud.com:10354', # E.g.'redis-10908.c252.ap-southeast-1-1.ec2.cloud.redislabs.com'\n",
    "  port=10908,\n",
    "  password='*******' \n",
    ")"
   ]
  },
  {
   "cell_type": "markdown",
   "metadata": {},
   "source": [
    "A Redis database holds `key:value pairs` and supports commands such as GET, SET, and DEL, as well as several hundred additional commands.\n",
    "\n",
    "- Redis keys are always strings.\n",
    "- Redis values may be a number of different data types. Some of the more essential value data types are- string, list, hashes, and sets. Some advanced types include geospatial items and stream.\n",
    "\n",
    "Many Redis commands operate in constant O(1) time, just like retrieving a value from a Python dict or any hash table.\n",
    "\n",
    "Let's create a new key called `'name'` with the value `'Aaron'`."
   ]
  },
  {
   "cell_type": "code",
   "execution_count": 10,
   "metadata": {},
   "outputs": [
    {
     "name": "stdout",
     "output_type": "stream",
     "text": [
      "<redis.client.Redis(<redis.connection.ConnectionPool(<redis.connection.Connection(db=0,username=admin,password=g5um2DeN9s!4!D3,socket_timeout=None,encoding=utf-8,encoding_errors=strict,decode_responses=True,retry_on_error=[],retry=<redis.retry.Retry object at 0x76c8a2b002e0>,health_check_interval=0,client_name=None,lib_name=redis-py,lib_version=6.3.0,redis_connect_func=None,credential_provider=None,protocol=2,host=redis-10354.c295.ap-southeast-1-1.ec2.redns.redis-cloud.com,port=10354,socket_connect_timeout=None,socket_keepalive=None,socket_keepalive_options=None)>)>)>\n"
     ]
    }
   ],
   "source": [
    "print(r)"
   ]
  },
  {
   "cell_type": "code",
   "execution_count": 11,
   "metadata": {},
   "outputs": [
    {
     "data": {
      "text/plain": [
       "True"
      ]
     },
     "execution_count": 11,
     "metadata": {},
     "output_type": "execute_result"
    }
   ],
   "source": [
    "r.set('name', 'Aaron')"
   ]
  },
  {
   "cell_type": "markdown",
   "metadata": {},
   "source": [
    "Read the value of the key `'name'`:"
   ]
  },
  {
   "cell_type": "code",
   "execution_count": 10,
   "metadata": {},
   "outputs": [
    {
     "data": {
      "text/plain": [
       "'Aaron'"
      ]
     },
     "execution_count": 10,
     "metadata": {},
     "output_type": "execute_result"
    }
   ],
   "source": [
    "r.get('name')"
   ]
  },
  {
   "cell_type": "markdown",
   "metadata": {},
   "source": [
    "We can update the value with `.set` too:"
   ]
  },
  {
   "cell_type": "code",
   "execution_count": 12,
   "metadata": {},
   "outputs": [
    {
     "data": {
      "text/plain": [
       "True"
      ]
     },
     "execution_count": 12,
     "metadata": {},
     "output_type": "execute_result"
    }
   ],
   "source": [
    "r.set('name', 'Bob')"
   ]
  },
  {
   "cell_type": "code",
   "execution_count": 12,
   "metadata": {},
   "outputs": [
    {
     "data": {
      "text/plain": [
       "'Aaron'"
      ]
     },
     "execution_count": 12,
     "metadata": {},
     "output_type": "execute_result"
    }
   ],
   "source": [
    "r.get('name')"
   ]
  },
  {
   "cell_type": "markdown",
   "metadata": {},
   "source": [
    "> Set a key `age` with value of `20`.\n",
    ">\n",
    "> Then read the value."
   ]
  },
  {
   "cell_type": "markdown",
   "metadata": {},
   "source": [
    "To push a list, you need to use `rpush`:"
   ]
  },
  {
   "cell_type": "code",
   "execution_count": 13,
   "metadata": {},
   "outputs": [
    {
     "data": {
      "text/plain": [
       "6"
      ]
     },
     "execution_count": 13,
     "metadata": {},
     "output_type": "execute_result"
    }
   ],
   "source": [
    "r.rpush(\"names\", \"Aaron\", \"Bob\", \"Charlie\")"
   ]
  },
  {
   "cell_type": "code",
   "execution_count": 14,
   "metadata": {},
   "outputs": [
    {
     "data": {
      "text/plain": [
       "'Bob'"
      ]
     },
     "execution_count": 14,
     "metadata": {},
     "output_type": "execute_result"
    }
   ],
   "source": [
    "r.lindex(\"names\", 1)"
   ]
  },
  {
   "cell_type": "markdown",
   "metadata": {},
   "source": [
    "You can use `mset` to set multiple keys at once."
   ]
  },
  {
   "cell_type": "code",
   "execution_count": 15,
   "metadata": {},
   "outputs": [
    {
     "data": {
      "text/plain": [
       "True"
      ]
     },
     "execution_count": 15,
     "metadata": {},
     "output_type": "execute_result"
    }
   ],
   "source": [
    "r.mset({\n",
    "    \"name\": \"John\",\n",
    "    \"age\": 30,\n",
    "})"
   ]
  },
  {
   "cell_type": "code",
   "execution_count": 16,
   "metadata": {},
   "outputs": [
    {
     "data": {
      "text/plain": [
       "['John', '30']"
      ]
     },
     "execution_count": 16,
     "metadata": {},
     "output_type": "execute_result"
    }
   ],
   "source": [
    "r.mget(\"name\", \"age\")"
   ]
  },
  {
   "cell_type": "markdown",
   "metadata": {},
   "source": [
    "Redis `hashes` are record types structured as collections of field-value pairs. You can use hashes to represent basic objects.\n",
    "\n",
    "```python\n",
    "# Create a new hash with my name as the key\n",
    "r.hset(\n",
    "    'zane lim',\n",
    "    mapping={\n",
    "        \"age\": 21,\n",
    "        \"email\": \"zl@gmail.com\",\n",
    "        \"hobby\": \"coding\",\n",
    "    },\n",
    ")\n",
    "```\n",
    "\n",
    "Then get the hash nested value back:\n"
   ]
  },
  {
   "cell_type": "code",
   "execution_count": 17,
   "metadata": {},
   "outputs": [
    {
     "data": {
      "text/plain": [
       "0"
      ]
     },
     "execution_count": 17,
     "metadata": {},
     "output_type": "execute_result"
    }
   ],
   "source": [
    "r.hset(\n",
    "    'zane lim',\n",
    "    mapping={\n",
    "        \"age\": 21,\n",
    "        \"email\": \"zl@gmail.com\",\n",
    "        \"hobby\": \"coding\",\n",
    "    },\n",
    ")"
   ]
  },
  {
   "cell_type": "code",
   "execution_count": 18,
   "metadata": {},
   "outputs": [
    {
     "data": {
      "text/plain": [
       "'zl@gmail.com'"
      ]
     },
     "execution_count": 18,
     "metadata": {},
     "output_type": "execute_result"
    }
   ],
   "source": [
    "r.hget(\"zane lim\", \"email\")"
   ]
  },
  {
   "cell_type": "markdown",
   "metadata": {},
   "source": [
    "Get the object back as a dictionary:"
   ]
  },
  {
   "cell_type": "code",
   "execution_count": 19,
   "metadata": {},
   "outputs": [
    {
     "data": {
      "text/plain": [
       "{'age': '21', 'email': 'zl@gmail.com', 'hobby': 'coding'}"
      ]
     },
     "execution_count": 19,
     "metadata": {},
     "output_type": "execute_result"
    }
   ],
   "source": [
    "r.hgetall(\"zane lim\")"
   ]
  },
  {
   "cell_type": "markdown",
   "metadata": {},
   "source": [
    "> Create a new hash with your name as the key, and a mapping of `age`, `email`, `hobby`."
   ]
  },
  {
   "cell_type": "markdown",
   "metadata": {},
   "source": [
    "Always a good practice to shutdown your Redis cluster if not going to be used in future. Click into your DB and hit `Delete`. See this [screenshot](../assets/redis_terminate_db.png) for a guide."
   ]
  },
  {
   "cell_type": "markdown",
   "metadata": {},
   "source": [
    "## Google Cloud Storage\n",
    "\n",
    "Google Cloud Storage is an Object Storage service in Google Cloud.\n",
    "\n",
    "### Bucket\n",
    "- A bucket is a container for objects stored in Google Cloud Storage.\n",
    "- Every object is contained in a bucket.\n",
    "- Each bucket is associated with a project.\n",
    "- A bucket has a unique name across all of Google Cloud Storage.\n",
    "\n",
    "### Object\n",
    "- An object is a piece of data, such as a file, that is stored in Google Cloud Storage.\n",
    "- An object is also called a `blob` (binary large object) in Google Cloud Storage. \n",
    "- An object is composed of the object's data and its metadata. \n",
    "- Metadata is a collection of name-value pairs that describe the object. You can use metadata to search for objects.\n",
    "\n",
    "We will be using the `google-cloud-storage` python library to fetch data from the public [Landsat Collection 1](https://console.cloud.google.com/storage/browser/gcp-public-data-landsat;tab=objects?prefix=&forceOnObjectsSortingFiltering=false) dataset demonstrated just now."
   ]
  },
  {
   "cell_type": "code",
   "execution_count": 22,
   "metadata": {},
   "outputs": [
    {
     "name": "stdout",
     "output_type": "stream",
     "text": [
      "Collecting google-cloud-storage\n",
      "  Obtaining dependency information for google-cloud-storage from https://files.pythonhosted.org/packages/be/48/823ce62cf29d04db6508971a0db13a72c1c9faf67cea2c206b1c9c9f1f02/google_cloud_storage-3.2.0-py3-none-any.whl.metadata\n",
      "  Downloading google_cloud_storage-3.2.0-py3-none-any.whl.metadata (13 kB)\n",
      "Collecting google-auth<3.0.0,>=2.26.1 (from google-cloud-storage)\n",
      "  Obtaining dependency information for google-auth<3.0.0,>=2.26.1 from https://files.pythonhosted.org/packages/17/63/b19553b658a1692443c62bd07e5868adaa0ad746a0751ba62c59568cd45b/google_auth-2.40.3-py2.py3-none-any.whl.metadata\n",
      "  Using cached google_auth-2.40.3-py2.py3-none-any.whl.metadata (6.2 kB)\n",
      "Collecting google-api-core<3.0.0,>=2.15.0 (from google-cloud-storage)\n",
      "  Obtaining dependency information for google-api-core<3.0.0,>=2.15.0 from https://files.pythonhosted.org/packages/14/4b/ead00905132820b623732b175d66354e9d3e69fcf2a5dcdab780664e7896/google_api_core-2.25.1-py3-none-any.whl.metadata\n",
      "  Using cached google_api_core-2.25.1-py3-none-any.whl.metadata (3.0 kB)\n",
      "Collecting google-cloud-core<3.0.0,>=2.4.2 (from google-cloud-storage)\n",
      "  Obtaining dependency information for google-cloud-core<3.0.0,>=2.4.2 from https://files.pythonhosted.org/packages/40/86/bda7241a8da2d28a754aad2ba0f6776e35b67e37c36ae0c45d49370f1014/google_cloud_core-2.4.3-py2.py3-none-any.whl.metadata\n",
      "  Using cached google_cloud_core-2.4.3-py2.py3-none-any.whl.metadata (2.7 kB)\n",
      "Collecting google-resumable-media<3.0.0,>=2.7.2 (from google-cloud-storage)\n",
      "  Obtaining dependency information for google-resumable-media<3.0.0,>=2.7.2 from https://files.pythonhosted.org/packages/82/35/b8d3baf8c46695858cb9d8835a53baa1eeb9906ddaf2f728a5f5b640fd1e/google_resumable_media-2.7.2-py2.py3-none-any.whl.metadata\n",
      "  Using cached google_resumable_media-2.7.2-py2.py3-none-any.whl.metadata (2.2 kB)\n",
      "Collecting requests<3.0.0,>=2.22.0 (from google-cloud-storage)\n",
      "  Obtaining dependency information for requests<3.0.0,>=2.22.0 from https://files.pythonhosted.org/packages/7c/e4/56027c4a6b4ae70ca9de302488c5ca95ad4a39e190093d6c1a8ace08341b/requests-2.32.4-py3-none-any.whl.metadata\n",
      "  Downloading requests-2.32.4-py3-none-any.whl.metadata (4.9 kB)\n",
      "Collecting google-crc32c<2.0.0,>=1.1.3 (from google-cloud-storage)\n",
      "  Obtaining dependency information for google-crc32c<2.0.0,>=1.1.3 from https://files.pythonhosted.org/packages/60/44/87e77e8476767a4a93f6cf271157c6d948eacec63688c093580af13b04be/google_crc32c-1.7.1-cp310-cp310-manylinux_2_17_x86_64.manylinux2014_x86_64.whl.metadata\n",
      "  Using cached google_crc32c-1.7.1-cp310-cp310-manylinux_2_17_x86_64.manylinux2014_x86_64.whl.metadata (2.3 kB)\n",
      "Collecting googleapis-common-protos<2.0.0,>=1.56.2 (from google-api-core<3.0.0,>=2.15.0->google-cloud-storage)\n",
      "  Obtaining dependency information for googleapis-common-protos<2.0.0,>=1.56.2 from https://files.pythonhosted.org/packages/86/f1/62a193f0227cf15a920390abe675f386dec35f7ae3ffe6da582d3ade42c7/googleapis_common_protos-1.70.0-py3-none-any.whl.metadata\n",
      "  Using cached googleapis_common_protos-1.70.0-py3-none-any.whl.metadata (9.3 kB)\n",
      "Requirement already satisfied: protobuf!=3.20.0,!=3.20.1,!=4.21.0,!=4.21.1,!=4.21.2,!=4.21.3,!=4.21.4,!=4.21.5,<7.0.0,>=3.19.5 in /home/sawinu/miniconda3/envs/bde/lib/python3.10/site-packages (from google-api-core<3.0.0,>=2.15.0->google-cloud-storage) (3.20.3)\n",
      "Collecting proto-plus<2.0.0,>=1.22.3 (from google-api-core<3.0.0,>=2.15.0->google-cloud-storage)\n",
      "  Obtaining dependency information for proto-plus<2.0.0,>=1.22.3 from https://files.pythonhosted.org/packages/4e/6d/280c4c2ce28b1593a19ad5239c8b826871fc6ec275c21afc8e1820108039/proto_plus-1.26.1-py3-none-any.whl.metadata\n",
      "  Using cached proto_plus-1.26.1-py3-none-any.whl.metadata (2.2 kB)\n",
      "Collecting cachetools<6.0,>=2.0.0 (from google-auth<3.0.0,>=2.26.1->google-cloud-storage)\n",
      "  Obtaining dependency information for cachetools<6.0,>=2.0.0 from https://files.pythonhosted.org/packages/72/76/20fa66124dbe6be5cafeb312ece67de6b61dd91a0247d1ea13db4ebb33c2/cachetools-5.5.2-py3-none-any.whl.metadata\n",
      "  Using cached cachetools-5.5.2-py3-none-any.whl.metadata (5.4 kB)\n",
      "Collecting pyasn1-modules>=0.2.1 (from google-auth<3.0.0,>=2.26.1->google-cloud-storage)\n",
      "  Obtaining dependency information for pyasn1-modules>=0.2.1 from https://files.pythonhosted.org/packages/47/8d/d529b5d697919ba8c11ad626e835d4039be708a35b0d22de83a269a6682c/pyasn1_modules-0.4.2-py3-none-any.whl.metadata\n",
      "  Using cached pyasn1_modules-0.4.2-py3-none-any.whl.metadata (3.5 kB)\n",
      "Collecting rsa<5,>=3.1.4 (from google-auth<3.0.0,>=2.26.1->google-cloud-storage)\n",
      "  Obtaining dependency information for rsa<5,>=3.1.4 from https://files.pythonhosted.org/packages/64/8d/0133e4eb4beed9e425d9a98ed6e081a55d195481b7632472be1af08d2f6b/rsa-4.9.1-py3-none-any.whl.metadata\n",
      "  Using cached rsa-4.9.1-py3-none-any.whl.metadata (5.6 kB)\n",
      "Collecting charset_normalizer<4,>=2 (from requests<3.0.0,>=2.22.0->google-cloud-storage)\n",
      "  Obtaining dependency information for charset_normalizer<4,>=2 from https://files.pythonhosted.org/packages/a8/2d/7a5b635aa65284bf3eab7653e8b4151ab420ecbae918d3e359d1947b4d61/charset_normalizer-3.4.2-cp310-cp310-manylinux_2_17_x86_64.manylinux2014_x86_64.whl.metadata\n",
      "  Using cached charset_normalizer-3.4.2-cp310-cp310-manylinux_2_17_x86_64.manylinux2014_x86_64.whl.metadata (35 kB)\n",
      "Requirement already satisfied: idna<4,>=2.5 in /home/sawinu/miniconda3/envs/bde/lib/python3.10/site-packages (from requests<3.0.0,>=2.22.0->google-cloud-storage) (3.7)\n",
      "Collecting urllib3<3,>=1.21.1 (from requests<3.0.0,>=2.22.0->google-cloud-storage)\n",
      "  Obtaining dependency information for urllib3<3,>=1.21.1 from https://files.pythonhosted.org/packages/a7/c2/fe1e52489ae3122415c51f387e221dd0773709bad6c6cdaa599e8a2c5185/urllib3-2.5.0-py3-none-any.whl.metadata\n",
      "  Using cached urllib3-2.5.0-py3-none-any.whl.metadata (6.5 kB)\n",
      "Collecting certifi>=2017.4.17 (from requests<3.0.0,>=2.22.0->google-cloud-storage)\n",
      "  Obtaining dependency information for certifi>=2017.4.17 from https://files.pythonhosted.org/packages/e5/48/1549795ba7742c948d2ad169c1c8cdbae65bc450d6cd753d124b17c8cd32/certifi-2025.8.3-py3-none-any.whl.metadata\n",
      "  Using cached certifi-2025.8.3-py3-none-any.whl.metadata (2.4 kB)\n",
      "Collecting pyasn1<0.7.0,>=0.6.1 (from pyasn1-modules>=0.2.1->google-auth<3.0.0,>=2.26.1->google-cloud-storage)\n",
      "  Obtaining dependency information for pyasn1<0.7.0,>=0.6.1 from https://files.pythonhosted.org/packages/c8/f1/d6a797abb14f6283c0ddff96bbdd46937f64122b8c925cab503dd37f8214/pyasn1-0.6.1-py3-none-any.whl.metadata\n",
      "  Using cached pyasn1-0.6.1-py3-none-any.whl.metadata (8.4 kB)\n",
      "Downloading google_cloud_storage-3.2.0-py3-none-any.whl (176 kB)\n",
      "\u001b[2K   \u001b[90m━━━━━━━━━━━━━━━━━━━━━━━━━━━━━━━━━━━━━━━━\u001b[0m \u001b[32m176.1/176.1 kB\u001b[0m \u001b[31m2.9 MB/s\u001b[0m eta \u001b[36m0:00:00\u001b[0ma \u001b[36m0:00:01\u001b[0m\n",
      "\u001b[?25hUsing cached google_api_core-2.25.1-py3-none-any.whl (160 kB)\n",
      "Using cached google_auth-2.40.3-py2.py3-none-any.whl (216 kB)\n",
      "Using cached google_cloud_core-2.4.3-py2.py3-none-any.whl (29 kB)\n",
      "Using cached google_crc32c-1.7.1-cp310-cp310-manylinux_2_17_x86_64.manylinux2014_x86_64.whl (38 kB)\n",
      "Using cached google_resumable_media-2.7.2-py2.py3-none-any.whl (81 kB)\n",
      "Downloading requests-2.32.4-py3-none-any.whl (64 kB)\n",
      "\u001b[2K   \u001b[90m━━━━━━━━━━━━━━━━━━━━━━━━━━━━━━━━━━━━━━━━\u001b[0m \u001b[32m64.8/64.8 kB\u001b[0m \u001b[31m2.7 MB/s\u001b[0m eta \u001b[36m0:00:00\u001b[0m\n",
      "\u001b[?25hUsing cached cachetools-5.5.2-py3-none-any.whl (10 kB)\n",
      "Using cached certifi-2025.8.3-py3-none-any.whl (161 kB)\n",
      "Using cached charset_normalizer-3.4.2-cp310-cp310-manylinux_2_17_x86_64.manylinux2014_x86_64.whl (149 kB)\n",
      "Using cached googleapis_common_protos-1.70.0-py3-none-any.whl (294 kB)\n",
      "Using cached proto_plus-1.26.1-py3-none-any.whl (50 kB)\n",
      "Using cached pyasn1_modules-0.4.2-py3-none-any.whl (181 kB)\n",
      "Using cached rsa-4.9.1-py3-none-any.whl (34 kB)\n",
      "Using cached urllib3-2.5.0-py3-none-any.whl (129 kB)\n",
      "Using cached pyasn1-0.6.1-py3-none-any.whl (83 kB)\n",
      "Installing collected packages: urllib3, pyasn1, proto-plus, googleapis-common-protos, google-crc32c, charset_normalizer, certifi, cachetools, rsa, requests, pyasn1-modules, google-resumable-media, google-auth, google-api-core, google-cloud-core, google-cloud-storage\n",
      "Successfully installed cachetools-5.5.2 certifi-2025.8.3 charset_normalizer-3.4.2 google-api-core-2.25.1 google-auth-2.40.3 google-cloud-core-2.4.3 google-cloud-storage-3.2.0 google-crc32c-1.7.1 google-resumable-media-2.7.2 googleapis-common-protos-1.70.0 proto-plus-1.26.1 pyasn1-0.6.1 pyasn1-modules-0.4.2 requests-2.32.4 rsa-4.9.1 urllib3-2.5.0\n",
      "Note: you may need to restart the kernel to use updated packages.\n"
     ]
    }
   ],
   "source": [
    "%pip install google-cloud-storage"
   ]
  },
  {
   "cell_type": "code",
   "execution_count": 20,
   "metadata": {},
   "outputs": [],
   "source": [
    "from google.cloud import storage"
   ]
  },
  {
   "cell_type": "code",
   "execution_count": 21,
   "metadata": {},
   "outputs": [],
   "source": [
    "client = storage.Client()"
   ]
  },
  {
   "cell_type": "code",
   "execution_count": 22,
   "metadata": {},
   "outputs": [],
   "source": [
    "bucket = client.get_bucket('gcp-public-data-landsat')"
   ]
  },
  {
   "cell_type": "markdown",
   "metadata": {},
   "source": [
    "Note that you need to do `gcloud auth application-default login` to run the cell above. \n",
    "\n",
    "If the error persists, you may also need to restart the kernel (in VSCode, click the `Restart` button)."
   ]
  },
  {
   "cell_type": "markdown",
   "metadata": {},
   "source": [
    "Get bucket metadata:"
   ]
  },
  {
   "cell_type": "code",
   "execution_count": 23,
   "metadata": {},
   "outputs": [
    {
     "name": "stdout",
     "output_type": "stream",
     "text": [
      "Bucket name: gcp-public-data-landsat\n",
      "Bucket location: US\n",
      "Bucket storage class: STANDARD\n"
     ]
    }
   ],
   "source": [
    "print(\"Bucket name: {}\".format(bucket.name))\n",
    "print(\"Bucket location: {}\".format(bucket.location))\n",
    "print(\"Bucket storage class: {}\".format(bucket.storage_class))"
   ]
  },
  {
   "cell_type": "markdown",
   "metadata": {},
   "source": [
    "List blobs in a bucket:"
   ]
  },
  {
   "cell_type": "code",
   "execution_count": 24,
   "metadata": {},
   "outputs": [
    {
     "name": "stdout",
     "output_type": "stream",
     "text": [
      "Blobs in gcp-public-data-landsat:\n",
      "\tLC08/01/001/002/LC08_L1GT_001002_20160817_20170322_01_T2/LC08_L1GT_001002_20160817_20170322_01_T2_ANG.txt\n",
      "\tLC08/01/001/002/LC08_L1GT_001002_20160817_20170322_01_T2/LC08_L1GT_001002_20160817_20170322_01_T2_B1.TIF\n",
      "\tLC08/01/001/002/LC08_L1GT_001002_20160817_20170322_01_T2/LC08_L1GT_001002_20160817_20170322_01_T2_B10.TIF\n",
      "\tLC08/01/001/002/LC08_L1GT_001002_20160817_20170322_01_T2/LC08_L1GT_001002_20160817_20170322_01_T2_B11.TIF\n",
      "\tLC08/01/001/002/LC08_L1GT_001002_20160817_20170322_01_T2/LC08_L1GT_001002_20160817_20170322_01_T2_B2.TIF\n",
      "\tLC08/01/001/002/LC08_L1GT_001002_20160817_20170322_01_T2/LC08_L1GT_001002_20160817_20170322_01_T2_B3.TIF\n",
      "\tLC08/01/001/002/LC08_L1GT_001002_20160817_20170322_01_T2/LC08_L1GT_001002_20160817_20170322_01_T2_B4.TIF\n",
      "\tLC08/01/001/002/LC08_L1GT_001002_20160817_20170322_01_T2/LC08_L1GT_001002_20160817_20170322_01_T2_B5.TIF\n",
      "\tLC08/01/001/002/LC08_L1GT_001002_20160817_20170322_01_T2/LC08_L1GT_001002_20160817_20170322_01_T2_B6.TIF\n",
      "\tLC08/01/001/002/LC08_L1GT_001002_20160817_20170322_01_T2/LC08_L1GT_001002_20160817_20170322_01_T2_B7.TIF\n",
      "\tLC08/01/001/002/LC08_L1GT_001002_20160817_20170322_01_T2/LC08_L1GT_001002_20160817_20170322_01_T2_B8.TIF\n",
      "\tLC08/01/001/002/LC08_L1GT_001002_20160817_20170322_01_T2/LC08_L1GT_001002_20160817_20170322_01_T2_B9.TIF\n",
      "\tLC08/01/001/002/LC08_L1GT_001002_20160817_20170322_01_T2/LC08_L1GT_001002_20160817_20170322_01_T2_BQA.TIF\n",
      "\tLC08/01/001/002/LC08_L1GT_001002_20160817_20170322_01_T2/LC08_L1GT_001002_20160817_20170322_01_T2_MTL.txt\n",
      "\tLC08/01/001/002/LC08_L1GT_001002_20160902_20170321_01_T2/LC08_L1GT_001002_20160902_20170321_01_T2_ANG.txt\n",
      "\tLC08/01/001/002/LC08_L1GT_001002_20160902_20170321_01_T2/LC08_L1GT_001002_20160902_20170321_01_T2_B1.TIF\n",
      "\tLC08/01/001/002/LC08_L1GT_001002_20160902_20170321_01_T2/LC08_L1GT_001002_20160902_20170321_01_T2_B10.TIF\n",
      "\tLC08/01/001/002/LC08_L1GT_001002_20160902_20170321_01_T2/LC08_L1GT_001002_20160902_20170321_01_T2_B11.TIF\n",
      "\tLC08/01/001/002/LC08_L1GT_001002_20160902_20170321_01_T2/LC08_L1GT_001002_20160902_20170321_01_T2_B2.TIF\n",
      "\tLC08/01/001/002/LC08_L1GT_001002_20160902_20170321_01_T2/LC08_L1GT_001002_20160902_20170321_01_T2_B3.TIF\n",
      "\tLC08/01/001/002/LC08_L1GT_001002_20160902_20170321_01_T2/LC08_L1GT_001002_20160902_20170321_01_T2_B4.TIF\n",
      "\tLC08/01/001/002/LC08_L1GT_001002_20160902_20170321_01_T2/LC08_L1GT_001002_20160902_20170321_01_T2_B5.TIF\n",
      "\tLC08/01/001/002/LC08_L1GT_001002_20160902_20170321_01_T2/LC08_L1GT_001002_20160902_20170321_01_T2_B6.TIF\n",
      "\tLC08/01/001/002/LC08_L1GT_001002_20160902_20170321_01_T2/LC08_L1GT_001002_20160902_20170321_01_T2_B7.TIF\n",
      "\tLC08/01/001/002/LC08_L1GT_001002_20160902_20170321_01_T2/LC08_L1GT_001002_20160902_20170321_01_T2_B8.TIF\n",
      "\tLC08/01/001/002/LC08_L1GT_001002_20160902_20170321_01_T2/LC08_L1GT_001002_20160902_20170321_01_T2_B9.TIF\n",
      "\tLC08/01/001/002/LC08_L1GT_001002_20160902_20170321_01_T2/LC08_L1GT_001002_20160902_20170321_01_T2_BQA.TIF\n",
      "\tLC08/01/001/002/LC08_L1GT_001002_20160902_20170321_01_T2/LC08_L1GT_001002_20160902_20170321_01_T2_MTL.txt\n",
      "\tLC08/01/001/002/LC08_L1GT_001002_20160902_20170321_01_T2_$folder$\n",
      "\tLC08/01/001/002/LC08_L1GT_001002_20160918_20170321_01_T2/LC08_L1GT_001002_20160918_20170321_01_T2_ANG.txt\n",
      "\tLC08/01/001/002/LC08_L1GT_001002_20160918_20170321_01_T2/LC08_L1GT_001002_20160918_20170321_01_T2_B1.TIF\n",
      "\tLC08/01/001/002/LC08_L1GT_001002_20160918_20170321_01_T2/LC08_L1GT_001002_20160918_20170321_01_T2_B10.TIF\n",
      "\tLC08/01/001/002/LC08_L1GT_001002_20160918_20170321_01_T2/LC08_L1GT_001002_20160918_20170321_01_T2_B11.TIF\n",
      "\tLC08/01/001/002/LC08_L1GT_001002_20160918_20170321_01_T2/LC08_L1GT_001002_20160918_20170321_01_T2_B2.TIF\n",
      "\tLC08/01/001/002/LC08_L1GT_001002_20160918_20170321_01_T2/LC08_L1GT_001002_20160918_20170321_01_T2_B3.TIF\n",
      "\tLC08/01/001/002/LC08_L1GT_001002_20160918_20170321_01_T2/LC08_L1GT_001002_20160918_20170321_01_T2_B4.TIF\n",
      "\tLC08/01/001/002/LC08_L1GT_001002_20160918_20170321_01_T2/LC08_L1GT_001002_20160918_20170321_01_T2_B5.TIF\n",
      "\tLC08/01/001/002/LC08_L1GT_001002_20160918_20170321_01_T2/LC08_L1GT_001002_20160918_20170321_01_T2_B6.TIF\n",
      "\tLC08/01/001/002/LC08_L1GT_001002_20160918_20170321_01_T2/LC08_L1GT_001002_20160918_20170321_01_T2_B7.TIF\n",
      "\tLC08/01/001/002/LC08_L1GT_001002_20160918_20170321_01_T2/LC08_L1GT_001002_20160918_20170321_01_T2_B8.TIF\n",
      "\tLC08/01/001/002/LC08_L1GT_001002_20160918_20170321_01_T2/LC08_L1GT_001002_20160918_20170321_01_T2_B9.TIF\n",
      "\tLC08/01/001/002/LC08_L1GT_001002_20160918_20170321_01_T2/LC08_L1GT_001002_20160918_20170321_01_T2_BQA.TIF\n",
      "\tLC08/01/001/002/LC08_L1GT_001002_20160918_20170321_01_T2/LC08_L1GT_001002_20160918_20170321_01_T2_MTL.txt\n",
      "\tLC08/01/001/002/LC08_L1GT_001002_20160918_20170321_01_T2_$folder$\n",
      "\tLC08/01/001/002_$folder$\n",
      "\tLC08/01/001/003/LC08_L1GT_001003_20130323_20170505_01_T2/LC08_L1GT_001003_20130323_20170505_01_T2_ANG.txt\n",
      "\tLC08/01/001/003/LC08_L1GT_001003_20130323_20170505_01_T2/LC08_L1GT_001003_20130323_20170505_01_T2_B1.TIF\n",
      "\tLC08/01/001/003/LC08_L1GT_001003_20130323_20170505_01_T2/LC08_L1GT_001003_20130323_20170505_01_T2_B10.TIF\n",
      "\tLC08/01/001/003/LC08_L1GT_001003_20130323_20170505_01_T2/LC08_L1GT_001003_20130323_20170505_01_T2_B11.TIF\n",
      "\tLC08/01/001/003/LC08_L1GT_001003_20130323_20170505_01_T2/LC08_L1GT_001003_20130323_20170505_01_T2_B2.TIF\n",
      "\tLC08/01/001/003/LC08_L1GT_001003_20130323_20170505_01_T2/LC08_L1GT_001003_20130323_20170505_01_T2_B3.TIF\n"
     ]
    }
   ],
   "source": [
    "blobs = bucket.list_blobs()\n",
    "\n",
    "print(\"Blobs in {}:\".format(bucket.name))\n",
    "for ix, item in enumerate(blobs):\n",
    "    print(\"\\t\" + item.name)\n",
    "    if ix == 50:\n",
    "        break"
   ]
  },
  {
   "cell_type": "markdown",
   "metadata": {},
   "source": [
    "Get a blob and display metadata:"
   ]
  },
  {
   "cell_type": "code",
   "execution_count": 25,
   "metadata": {},
   "outputs": [
    {
     "name": "stdout",
     "output_type": "stream",
     "text": [
      "Name: gcp-public-data-landsat/LC08/01/001/002/LC08_L1GT_001002_20160817_20170322_01_T2/LC08_L1GT_001002_20160817_20170322_01_T2_B1.TIF/1502391058568908\n",
      "Size: 75085385 bytes\n",
      "Content type: application/octet-stream\n",
      "Public URL: https://storage.googleapis.com/gcp-public-data-landsat/LC08/01/001/002/LC08_L1GT_001002_20160817_20170322_01_T2/LC08_L1GT_001002_20160817_20170322_01_T2_B1.TIF\n"
     ]
    }
   ],
   "source": [
    "blob = bucket.get_blob(\"LC08/01/001/002/LC08_L1GT_001002_20160817_20170322_01_T2/LC08_L1GT_001002_20160817_20170322_01_T2_B1.TIF\")\n",
    "\n",
    "print(\"Name: {}\".format(blob.id))\n",
    "print(\"Size: {} bytes\".format(blob.size))\n",
    "print(\"Content type: {}\".format(blob.content_type))\n",
    "print(\"Public URL: {}\".format(blob.public_url))"
   ]
  },
  {
   "cell_type": "markdown",
   "metadata": {},
   "source": [
    "Download a blob to a local directory:"
   ]
  },
  {
   "cell_type": "code",
   "execution_count": 26,
   "metadata": {},
   "outputs": [
    {
     "name": "stdout",
     "output_type": "stream",
     "text": [
      "Downloaded blob LC08/01/001/002/LC08_L1GT_001002_20160817_20170322_01_T2/LC08_L1GT_001002_20160817_20170322_01_T2_B1.TIF to ../output/LC08_L1GT_001002_20160817_20170322_01_T2_B1.TIF.\n"
     ]
    }
   ],
   "source": [
    "output_file_name = \"../output/LC08_L1GT_001002_20160817_20170322_01_T2_B1.TIF\"\n",
    "blob.download_to_filename(output_file_name)\n",
    "\n",
    "print(\"Downloaded blob {} to {}.\".format(blob.name, output_file_name))"
   ]
  }
 ],
 "metadata": {
  "kernelspec": {
   "display_name": "bde",
   "language": "python",
   "name": "python3"
  },
  "language_info": {
   "codemirror_mode": {
    "name": "ipython",
    "version": 3
   },
   "file_extension": ".py",
   "mimetype": "text/x-python",
   "name": "python",
   "nbconvert_exporter": "python",
   "pygments_lexer": "ipython3",
   "version": "3.10.13"
  },
  "orig_nbformat": 4
 },
 "nbformat": 4,
 "nbformat_minor": 2
}
